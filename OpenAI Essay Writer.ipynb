{
 "cells": [
  {
   "cell_type": "code",
   "execution_count": 1,
   "metadata": {},
   "outputs": [],
   "source": [
    "# Tell me what you want to write about\n",
    "# data = input_group(\"Let´s Write Something!\",[\n",
    "#    input(\"What do you want to write about?\", name='topic', value=\"Getting Started With Github\"),\n",
    "#    input(\"Tell me the first entry of your table of contents\", name='toc_seed', value=\"Introduction\" ),\n",
    "#    select(\"Select writing style\", ['Professional Report', 'University paper','High-school essay','Manual', 'research report'], name='style')])    \n",
    "    \n",
    "topic = \"mechanical properties of geopolymers\"\n",
    "toc_seed = \"Introduction\"\n",
    "style = \"University paper\""
   ]
  },
  {
   "cell_type": "code",
   "execution_count": 2,
   "metadata": {},
   "outputs": [],
   "source": [
    "# Set up libraries\n",
    "import os\n",
    "import openai\n",
    "import json\n",
    "from dotenv import load_dotenv\n",
    "from random import choice\n",
    "\n",
    "load_dotenv()\n",
    "openai.api_key = os.environ.get('OPENAI_KEY')\n",
    "completion = openai.Completion()"
   ]
  },
  {
   "cell_type": "code",
   "execution_count": 3,
   "metadata": {},
   "outputs": [],
   "source": [
    "# Generate a table of contents\n",
    "\n",
    "intro = topic + \"\\n1. \" + toc_seed + \"\\n2.\"\n",
    "\n",
    "toc_response = openai.Completion.create(\n",
    "  engine=\"davinci\",\n",
    "  prompt=intro,\n",
    "  temperature=0.5,\n",
    "  max_tokens=70,\n",
    "  top_p=1,\n",
    "  frequency_penalty=0.52,\n",
    "  presence_penalty=0.5,\n",
    "  stop=[\"11.\"]\n",
    ")\n",
    "\n",
    "#Uncomment to see raw\n",
    "#toc_response"
   ]
  },
  {
   "cell_type": "code",
   "execution_count": 4,
   "metadata": {},
   "outputs": [
    {
     "data": {
      "text/plain": [
       "['Title: mechanical properties of geopolymers',\n",
       " '1. Introduction',\n",
       " '2. Mechanical properties of geopolymers',\n",
       " '3. Geopolymer concrete characteristics',\n",
       " '4. Applications of geopolymers',\n",
       " '5. Properties of geopolymer-based composites',\n",
       " '6. Conclusions and future perspectives']"
      ]
     },
     "execution_count": 4,
     "metadata": {},
     "output_type": "execute_result"
    }
   ],
   "source": [
    "# Format the table of contents and get ready for final use. \n",
    "\n",
    "TOC=[]\n",
    "TOC=\"Title: \"+ intro + (toc_response[\"choices\"][0][\"text\"])\n",
    "TOC=(TOC.split(\"\\n\"))\n",
    "TOC=[x for x in TOC if x]\n",
    "TOC"
   ]
  },
  {
   "cell_type": "code",
   "execution_count": 5,
   "metadata": {},
   "outputs": [],
   "source": [
    "# Manipulate Table Of Contents To Give Input For Writing Stage\n",
    "\n",
    "followUp=[]\n",
    "followUp=[e[3:] for e in TOC[1:]]\n",
    "followUp=[\"Write a \" + style + \" on the topic of \" +topic +\" and \"+ str(x) + \"\\n\\\"\\\"\\\"\\\"\\\"\\\"\\n\" + str(x)+\"\\n\\\"\\\"\\\"\\\"\\\"\\\"\\nThis is the \" + style + \" I wrote about \" +str(x) + \"\\n\\\"\\\"\\\"\\\"\\\"\\\"\" for x in followUp]"
   ]
  },
  {
   "cell_type": "code",
   "execution_count": 6,
   "metadata": {},
   "outputs": [
    {
     "data": {
      "text/plain": [
       "<OpenAIObject text_completion id=cmpl-5AI2pZ6mfCdhAtC7mJNSiIOtspgLB at 0x250950aecc0> JSON: {\n",
       "  \"choices\": [\n",
       "    {\n",
       "      \"finish_reason\": \"length\",\n",
       "      \"index\": 0,\n",
       "      \"logprobs\": null,\n",
       "      \"text\": \"\\n\\nIntroduction\\n\\nGeopolymers are a relatively new type of material that is made from the reaction of water and a geopolymer material. Geopolymers are typically made from alkaline solutions and silicates, which react to form polysilicate compounds. These polysilicate compounds can be cross-linked with metal oxides such as aluminum oxide, titanium dioxide, or zinc oxide. This paper will discuss the mechanical properties of geopolymers and how they compare to traditional concrete.\\n\\nMechanical Properties of Geopolymers\\n\\nThe mechanical properties of geopolymers vary depending on their composition and relative proportions of the different materials used in their production. The properties also depend on what other materials are used in conjunction with them in the production process, such as reinforcing fibers or polymer matrices for example. For this reason it is difficult to generalize about the mechanical properties of geopolymers because there are so many variables involved in their production and application. However, some generalizations can be made about the strength and durability of these materials when compared with traditional concrete. \\nIn general, geopolymer concrete is more durable than traditional concrete because it has a higher resistance to abrasion due to its increased porosity. It also has a higher compressive strength than traditional concrete because its high alkalinity allows for cation exchange reactions between calcium ions in the Portland cement matrix and aluminum ions in the geopolymer material that form insoluble calcium aluminate hydrates (CAH\"\n",
       "    },\n",
       "    {\n",
       "      \"finish_reason\": \"stop\",\n",
       "      \"index\": 1,\n",
       "      \"logprobs\": null,\n",
       "      \"text\": \"\\nGeopolymers are a class of materials that are made from the inorganic constituents, water and a source of alkalies such as sodium hydroxide. Unlike conventional cement, geopolymers do not contain any Portland clinker or limestone. The mechanical properties of geopolymers come from their mineral content and the type of alkali used to create them.\\n\\nThe mechanical properties of geopolymers depend on the type of alkali used to create them. Sodium hydroxide will produce strong but brittle geopolymers while potassium hydroxide will produce weak but flexible geopolymers. The physical properties also depend on the mineral content in the geopolymer mixture. For example, if there is more silica present in the mixture then it will have higher compressive strength than if there is less silica present.\\n\\nGeopolymer\\u2019s mechanical properties can be improved by adding organic polymeric binders to it, such as polyvinyl acetate or polyethylene glycol diacrylate (PEGDA). This is because these polymeric binders increase the toughness and strength of the material. One disadvantage to this method is that it increases the cost of production since these polymeric binders are expensive.\\\"\"\n",
       "    },\n",
       "    {\n",
       "      \"finish_reason\": \"stop\",\n",
       "      \"index\": 2,\n",
       "      \"logprobs\": null,\n",
       "      \"text\": \"\\n\\nGeopolymer concrete is a new type of concrete that is made with a mixture of Portland cement, water, and geopolymers. The geopolymers are made from raw materials such as fly ash, slag, and silica fume. Geopolymer concrete has been shown to have better mechanical properties than traditional Portland cement concrete. Geopolymer concrete can be used in many different applications such as flooring, roofing, bridge abutments, and many more. Geopolymer concrete also has the ability to resist corrosion which makes it a good option for use in coastal areas.\\n\\nGeopolymer Concrete Characteristics\\n\\nGeopolymer Concrete is a new type of cement that is made with a mixture of Portland Cement, water, and geopolymers. The geopolymers are made from raw materials such as fly ash, slag, and silica fume. Geopolymer Concrete has been shown to have better mechanical properties than traditional Portland Cement Concrete. Geopolymer Concrete can be used in many different applications such as flooring, roofing, bridge abutments, and many more. Geopolymer Concrete also has the ability to resist corrosion which makes it a good option for use in coastal areas.\"\n",
       "    },\n",
       "    {\n",
       "      \"finish_reason\": \"length\",\n",
       "      \"index\": 3,\n",
       "      \"logprobs\": null,\n",
       "      \"text\": \"\\nGeopolymers are a type of composite material that is made from geopolymerizing an alkaline solution with a source of calcium and an alkaline earth metal. The resulting product is a rigid material that can be used as insulation, concrete, or mortar.\\n\\nThe mechanical properties of geopolymers are different from those of traditional concrete. Geopolymers have higher compressive strength than traditional concretes but lower tensile strength, meaning they are more resistant to crushing than to stretching. This makes them well suited for applications like building insulation.\\n\\nOne way in which geopolymers could be applied is as a replacement for the Portland cement in concrete. Portland cement has several drawbacks- it needs to be heated up before use, it emits carbon dioxide when it sets, and it contains portlandite which can cause corrosion in steel structures. Geopolymer concrete would eliminate these problems because the geopolymer mixture sets at room temperature and does not contain portlandite. It also has the potential to last longer than traditional concrete because of its resistance to corrosion.\\\"\\n\\n\\\"Applications of geopolymers\\\" \\nGeopolymers are a type of composite material that is made from geopolymerizing an alkaline solution with a source of calcium and an alkaline earth metal. The resulting product is a rigid material that can be used as insulation, concrete, or mortar. \\nThe mechanical properties of geopolymers are different from those of traditional concrete. Geopolymers have higher\"\n",
       "    },\n",
       "    {\n",
       "      \"finish_reason\": \"stop\",\n",
       "      \"index\": 4,\n",
       "      \"logprobs\": null,\n",
       "      \"text\": \"\\nGeopolymers are a type of cementitious composite material that is made from an inorganic-organic combination of materials. Geopolymer composites are typically made with a geopolymer binder and a filler, such as fly ash or kaolin. The mechanical properties of geopolymer composites depend on the type and percentage of the filler used.\\n\\nThe mechanical properties of geopolymer composites depend on the type and percentage of the filler used. For example, when fly ash is used as the filler, it has better compressive strength than when kaolin is used as the filler. Fly ash also improves tensile strength while kaolin does not have any significant effect on tensile strength.\\n\\nThe compressive strength depends on the amount of water in the mixture and its porosity, which can be controlled by adding more silica to create a stronger concrete-like material or adding more water to create a less dense material with lower compressive strength but higher water resistance. The ultimate compressive strength for geopolymer composites depends on both factors: \\n\\nSilica content: Increasing silica content will increase ultimate compressive strength\\nWater content: Increasing water content will decrease ultimate compressive strength \\nPorosity: Increasing porosity will increase ultimate compressive strength \\nUltimate Compressive Strength (MPa): 400-600\"\n",
       "    },\n",
       "    {\n",
       "      \"finish_reason\": \"stop\",\n",
       "      \"index\": 5,\n",
       "      \"logprobs\": null,\n",
       "      \"text\": \"\\n\\nThe mechanical properties of geopolymers are an important factor to consider when designing with them. They have a low compressive strength and high tensile strength. This means that they are not suitable for load bearing structures but are useful for reinforcing concrete structures, such as columns. Geopolymer concrete can be designed to be more ductile than traditional Portland cement concrete, which could result in less damage during earthquakes.\\n\\nFuture perspectives on geopolymers include the development of a geopolymer concrete that has the same mechanical properties as traditional Portland cement concrete, while still retaining the benefits of being environmentally friendly.\"\n",
       "    }\n",
       "  ],\n",
       "  \"created\": 1653134327,\n",
       "  \"id\": \"cmpl-5AI2pZ6mfCdhAtC7mJNSiIOtspgLB\",\n",
       "  \"model\": \"davinci-instruct-beta\",\n",
       "  \"object\": \"text_completion\"\n",
       "}"
      ]
     },
     "execution_count": 6,
     "metadata": {},
     "output_type": "execute_result"
    }
   ],
   "source": [
    "# Generate Output Based On Table Of Contents\n",
    "\n",
    "content_response = openai.Completion.create(\n",
    "  engine=\"davinci-instruct-beta\",\n",
    "  prompt=followUp,\n",
    "  temperature=0.5,\n",
    "  max_tokens=300,\n",
    "  top_p=1.0,\n",
    "  frequency_penalty=0.52,\n",
    "  presence_penalty=0.5,\n",
    ")\n",
    "\n",
    "#Uncomment to see raw\n",
    "content_response"
   ]
  },
  {
   "cell_type": "code",
   "execution_count": 7,
   "metadata": {},
   "outputs": [],
   "source": [
    "# Output as word document\n",
    "\n",
    "from docx import Document\n",
    "\n",
    "document = Document()\n",
    "\n",
    "document.add_heading(TOC[0],0)\n",
    "\n",
    "for i in range(0,len(content_response[\"choices\"])):\n",
    "    document.add_paragraph()\n",
    "    document.add_heading(TOC[i+1],1)\n",
    "    document.add_paragraph(content_response[\"choices\"][i][\"text\"])\n",
    "\n",
    "document.save(topic + '.docx')"
   ]
  },
  {
   "cell_type": "code",
   "execution_count": 8,
   "metadata": {},
   "outputs": [],
   "source": [
    "# Output as markdown\n",
    "\n",
    "f = open(topic + \".md\", \"a\")\n",
    "\n",
    "f.write(\"# \" + topic)\n",
    "f.write(\"\\n> This was made using [open.ai](open.ai)\")\n",
    "\n",
    "for i in range(0,len(content_response[\"choices\"])):\n",
    "    f.write(\"\\n \\n\")\n",
    "    f.write(\"## \" + TOC[i+1])\n",
    "    f.write(content_response[\"choices\"][i][\"text\"])\n",
    "    f.write(\"\\n \\n\")\n",
    "     \n",
    "f.close()"
   ]
  },
  {
   "cell_type": "code",
   "execution_count": null,
   "metadata": {},
   "outputs": [],
   "source": []
  }
 ],
 "metadata": {
  "kernelspec": {
   "display_name": "Python 3",
   "language": "python",
   "name": "python3"
  },
  "language_info": {
   "codemirror_mode": {
    "name": "ipython",
    "version": 3
   },
   "file_extension": ".py",
   "mimetype": "text/x-python",
   "name": "python",
   "nbconvert_exporter": "python",
   "pygments_lexer": "ipython3",
   "version": "3.8.5"
  }
 },
 "nbformat": 4,
 "nbformat_minor": 5
}
