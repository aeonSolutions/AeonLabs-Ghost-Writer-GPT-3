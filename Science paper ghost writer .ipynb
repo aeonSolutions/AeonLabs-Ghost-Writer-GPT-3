{
 "cells": [
  {
   "cell_type": "code",
   "execution_count": 1,
   "metadata": {},
   "outputs": [],
   "source": [
    "from dotenv import load_dotenv\n",
    "import os\n",
    "from random import choice\n",
    "import openai\n",
    "\n",
    "\n",
    "load_dotenv()\n",
    "openai.api_key = os.environ.get('OPENAI_KEY')\n",
    "completion = openai.Completion()\n",
    "\n",
    "session_prompt = \"<YOUR_STORY_HERE>\""
   ]
  },
  {
   "cell_type": "code",
   "execution_count": 2,
   "metadata": {},
   "outputs": [],
   "source": [
    "def write_story(session_story=None):\n",
    "    if session_story == None: \n",
    "        prompt_text = session_prompt\n",
    "    else:\n",
    "        prompt_text = session_story\n",
    "    response = openai.Completion.create(\n",
    "      engine=\"davinci\",\n",
    "      prompt=prompt_text,\n",
    "      temperature=0.7,\n",
    "      max_tokens=96,\n",
    "      top_p=1,\n",
    "      frequency_penalty=0,\n",
    "      presence_penalty=0.3,\n",
    "    )\n",
    "    story = response['choices'][0]['text']\n",
    "    return str(story)"
   ]
  },
  {
   "cell_type": "code",
   "execution_count": 3,
   "metadata": {},
   "outputs": [],
   "source": [
    "def append_to_story(story, session_story=None):\n",
    "    if session_story is None:\n",
    "        session_story = session_prompt\n",
    "    return f'{session_story}{story}'"
   ]
  },
  {
   "cell_type": "code",
   "execution_count": 4,
   "metadata": {},
   "outputs": [],
   "source": [
    "def ghost_writer():\n",
    "    session_story = \"The following is a spooky story written for kids, just in time for Halloween. Everyone always talks about the old house at the end of the street, but I couldn't believe what happened when I went inside.\"\n",
    "    \n",
    "    story = write_story(session_story)\n",
    "    \n",
    "    file1 = open(\"spookystory.txt\", \"a\")\n",
    "    \n",
    "    if (os.stat(\"spookystory.txt\").st_size == 0):\n",
    "        file1.write(session_prompt)\n",
    "    \n",
    "    if session_story == \"the end\":\n",
    "        file1.close()\n",
    "        return str(story)\n",
    "    \n",
    "    #session['session_story'] = append_to_story(story, session_story)\n",
    "    \n",
    "    file1.write(story)\n",
    "    \n",
    "    return str(story)\n",
    "\n"
   ]
  },
  {
   "cell_type": "code",
   "execution_count": 5,
   "metadata": {
    "collapsed": true
   },
   "outputs": [
    {
     "name": "stdout",
     "output_type": "stream",
     "text": [
      " I'll never go there again.\n",
      "\n",
      "Advertisement\n",
      "\n",
      "The old house at the end of the street has been there since I was just a little kid. It was empty most of the time and seemed creepy. All of the kids were afraid to go near it. There were rumors about a terrible crime that happened inside.\n",
      "\n",
      "But one day, when I was in high school, I snuck in through an open window. I was curious about the crime. I found\n"
     ]
    }
   ],
   "source": [
    "result=ghost_writer()\n",
    "print(result)"
   ]
  }
 ],
 "metadata": {
  "kernelspec": {
   "display_name": "Python 3",
   "language": "python",
   "name": "python3"
  },
  "language_info": {
   "codemirror_mode": {
    "name": "ipython",
    "version": 3
   },
   "file_extension": ".py",
   "mimetype": "text/x-python",
   "name": "python",
   "nbconvert_exporter": "python",
   "pygments_lexer": "ipython3",
   "version": "3.8.5"
  }
 },
 "nbformat": 4,
 "nbformat_minor": 4
}
